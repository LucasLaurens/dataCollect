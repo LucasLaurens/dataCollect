{
 "cells": [
  {
   "cell_type": "markdown",
   "metadata": {},
   "source": [
    "# Exo 1"
   ]
  },
  {
   "cell_type": "code",
   "execution_count": 6,
   "metadata": {},
   "outputs": [],
   "source": [
    "liste = [[1, 2], [3,4], [5,6], [7,8]] "
   ]
  },
  {
   "cell_type": "code",
   "execution_count": 8,
   "metadata": {},
   "outputs": [
    {
     "name": "stdout",
     "output_type": "stream",
     "text": [
      "{1: 2, 3: 4, 5: 6, 7: 8}\n"
     ]
    }
   ],
   "source": [
    "dico = { elem[0] : elem[1] for elem in liste }\n",
    "print(dico)"
   ]
  },
  {
   "cell_type": "markdown",
   "metadata": {},
   "source": [
    "# Exo 2"
   ]
  },
  {
   "cell_type": "code",
   "execution_count": 9,
   "metadata": {},
   "outputs": [],
   "source": [
    "text = \"\"\"Lorem ipsum dolor sit amet, consectetur adipiscing elit. Vestibulum sagittis neque turpis, in gravida erat tincidunt a. Maecenas lobortis rutrum arcu, in posuere dolor fermentum sed. Duis imperdiet laoreet nibh, a pretium lectus condimentum eget. Maecenas eu elit vitae nibh euismod lacinia et a tortor. Donec at egestas leo, eget molestie quam. Sed elementum scelerisque sapien, quis suscipit ex malesuada vel. Aenean non mollis erat, in tincidunt massa.\n",
    "\n",
    "Mauris semper, purus in dictum imperdiet, libero nunc bibendum ex, eget facilisis turpis lorem ac lorem. Sed bibendum scelerisque tortor vel dictum. Aliquam dignissim eget erat non mollis. Maecenas vehicula feugiat tortor, in vulputate ex molestie nec. Ut suscipit iaculis nulla, auctor elementum urna dapibus non. Fusce facilisis mollis tellus sit amet venenatis. Praesent metus enim, tincidunt posuere tellus et, placerat tincidunt justo.\n",
    "\n",
    "Nunc id gravida ipsum, id porttitor magna. Maecenas porttitor accumsan odio non mattis. Suspendisse ultrices eleifend tristique. Vivamus accumsan libero tortor, eu aliquam sapien iaculis sed. In congue quis mi sed condimentum. Ut est libero, condimentum sit amet sagittis eu, tincidunt sed risus. Suspendisse pharetra molestie rutrum. Cras bibendum, dui ac consectetur eleifend, leo leo laoreet nibh, eget tristique lorem enim a nisi.\n",
    "\n",
    "Duis a purus eu augue consectetur malesuada id nec ex. Pellentesque sed odio laoreet, imperdiet dui ut, sodales odio. Class aptent taciti sociosqu ad litora torquent per conubia nostra, per inceptos himenaeos. Donec interdum, tortor eu dapibus pharetra, libero nisi faucibus nisl, id malesuada felis diam id urna. Praesent est metus, gravida eu luctus vitae, egestas vel metus. Class aptent taciti sociosqu ad litora torquent per conubia nostra, per inceptos himenaeos. Cras suscipit malesuada dui, vitae faucibus libero mollis a. In posuere blandit augue, sed semper ante imperdiet sed. Cras egestas posuere augue at semper. Praesent fermentum nunc risus, vitae aliquet augue consectetur a. Fusce interdum orci nunc, non posuere ex venenatis id. Nam faucibus fringilla mollis. Nulla ac enim accumsan, accumsan risus sit amet, rutrum tellus. Praesent lacinia augue at pulvinar venenatis. Etiam nunc augue, suscipit a faucibus sed, sodales ut mauris.\n",
    "\n",
    "Quisque quis magna malesuada, ultricies leo eget, elementum est. Praesent enim purus, pretium a nisl quis, accumsan blandit sapien. Class aptent taciti sociosqu ad litora torquent per conubia nostra, per inceptos himenaeos. Mauris ultricies iaculis nunc, quis fringilla arcu bibendum ac. Integer eu sem eget dui tempor sagittis. Ut sit amet ipsum quis nisi porttitor pulvinar. Etiam suscipit, leo nec fringilla luctus, lacus est egestas augue, eget vestibulum augue diam non eros. Duis posuere ac magna eget ullamcorper.\n",
    "\"\"\""
   ]
  },
  {
   "cell_type": "code",
   "execution_count": 16,
   "metadata": {},
   "outputs": [],
   "source": [
    "from collections import defaultdict, Counter"
   ]
  },
  {
   "cell_type": "code",
   "execution_count": 26,
   "metadata": {},
   "outputs": [
    {
     "name": "stdout",
     "output_type": "stream",
     "text": [
      "defaultdict(<class 'int'>, {'L': 1, 'o': 108, 'r': 128, 'e': 285, 'm': 99, ' ': 410, 'i': 229, 'p': 59, 's': 203, 'u': 190, 'd': 71, 'l': 106, 't': 196, 'a': 192, ',': 47, 'c': 96, 'n': 147, 'g': 38, '.': 46, 'V': 2, 'b': 30, 'q': 23, 'v': 19, 'M': 6, 'f': 15, 'D': 5, 'h': 9, 'S': 4, 'x': 5, 'A': 2, '\\n': 9, 'U': 3, 'F': 2, 'P': 6, 'j': 1, 'N': 3, 'I': 3, 'C': 6, 'E': 2, 'Q': 1})\n"
     ]
    }
   ],
   "source": [
    "frequencies = defaultdict(int)\n",
    "liste_counter = Counter(text)\n",
    "\n",
    "for letter, frequency in liste_counter.items():\n",
    "    frequencies[letter] = frequency\n",
    "\n",
    "print(frequencies)"
   ]
  },
  {
   "cell_type": "markdown",
   "metadata": {},
   "source": [
    "# Exo 3"
   ]
  },
  {
   "cell_type": "code",
   "execution_count": 44,
   "metadata": {},
   "outputs": [
    {
     "name": "stdout",
     "output_type": "stream",
     "text": [
      "OrderedDict([(0, 0), (2, 1), (1, 2), (4, 3), (3, 4)])\n"
     ]
    }
   ],
   "source": [
    "from collections import OrderedDict\n",
    "\n",
    "numbers_dict = {1: 2, 3: 4, 4: 3, 2: 1, 0: 0}\n",
    "dict_sorted = OrderedDict(sorted(numbers_dict.items(), key=lambda x: x[1]))\n",
    "print(dict_sorted)"
   ]
  },
  {
   "cell_type": "markdown",
   "metadata": {},
   "source": [
    "# Exo 4"
   ]
  },
  {
   "cell_type": "code",
   "execution_count": 233,
   "metadata": {},
   "outputs": [],
   "source": [
    "class NbFunctionCalls:\n",
    "    def __init__(self, function):\n",
    "        self.counter = 0\n",
    "        self.function = function\n",
    "    \n",
    "    def __call__(self, *args):\n",
    "        self.counter += 1\n",
    "        return self.function( *args )\n",
    "        \n",
    "    def __str__(self):\n",
    "        output = \"La fonction {} a été appellée {} fois\".format(self.function, self.counter)\n",
    "        return output"
   ]
  },
  {
   "cell_type": "code",
   "execution_count": 234,
   "metadata": {},
   "outputs": [],
   "source": [
    "@NbFunctionCalls # équivaut à somme = NbFunctionCalls(somme)\n",
    "def somme(*args):\n",
    "    result = args[0]\n",
    "    for arg in args[1:]:\n",
    "        result += arg\n",
    "    return result\n",
    "\n",
    "@NbFunctionCalls\n",
    "def multiply(*args):\n",
    "    result = args[0]\n",
    "    for arg in args[1:]:\n",
    "        result *= arg\n",
    "    return result\n",
    "\n",
    "@NbFunctionCalls\n",
    "def divide(*args):\n",
    "    result = args[0]\n",
    "    for arg in args[1:]:\n",
    "        result /= arg\n",
    "    return result"
   ]
  },
  {
   "cell_type": "code",
   "execution_count": 235,
   "metadata": {},
   "outputs": [
    {
     "name": "stdout",
     "output_type": "stream",
     "text": [
      "La fonction <function somme at 0x10ded9790> a été appellée 1 fois\n",
      "La fonction <function multiply at 0x10ded98b0> a été appellée 2 fois\n",
      "La fonction <function divide at 0x10ded9c10> a été appellée 3 fois\n"
     ]
    }
   ],
   "source": [
    "somme(1,2,3)\n",
    "print(somme)\n",
    "\n",
    "multiply(2,3,4)\n",
    "multiply(4,5,6)\n",
    "print(multiply)\n",
    "\n",
    "divide(2,3,4)\n",
    "divide(4,5,6)\n",
    "divide(4,5,6)\n",
    "print(divide)"
   ]
  },
  {
   "cell_type": "code",
   "execution_count": 245,
   "metadata": {},
   "outputs": [],
   "source": [
    "class RegisterAllFunctionCalls:\n",
    "    counter = 0\n",
    "    dico = {}\n",
    "    \n",
    "    def __init__(self, function):\n",
    "        self.function = function\n",
    "    \n",
    "    def __call__(self, *args):\n",
    "        self.__class__.counter += 1\n",
    "        result = self.function( *args )\n",
    "        self.__class__.dico[args] = result # args est hashable mais pas la liste\n",
    "        return result"
   ]
  },
  {
   "cell_type": "code",
   "execution_count": 246,
   "metadata": {},
   "outputs": [],
   "source": [
    "@RegisterAllFunctionCalls \n",
    "def somme(*args):\n",
    "    result = args[0]\n",
    "    for arg in args[1:]:\n",
    "        result += arg\n",
    "    return result"
   ]
  },
  {
   "cell_type": "code",
   "execution_count": 247,
   "metadata": {},
   "outputs": [
    {
     "name": "stdout",
     "output_type": "stream",
     "text": [
      "{(1, 2, 3): 6} 1 RegisterAllFunctionCalls\n"
     ]
    }
   ],
   "source": [
    "somme(1,2,3)\n",
    "print(somme.__class__.dico,  somme.__class__.counter, somme.__class__.__name__)"
   ]
  },
  {
   "cell_type": "markdown",
   "metadata": {},
   "source": [
    "# Exo 5"
   ]
  },
  {
   "cell_type": "code",
   "execution_count": 16,
   "metadata": {},
   "outputs": [],
   "source": [
    "class List:\n",
    "    def __init__(self, list1, list2):\n",
    "        self.list1 = list1\n",
    "        self.list2 = list2\n",
    "    \n",
    "    def __add__(self):\n",
    "        return [self.list1[i]+self.list2[i] for i in range(min(len(self.list1),len(self.list2)))]+max(self.list1,self.list2,key=len)[min(len(self.list1),len(self.list2)):]\n",
    "    \n",
    "    "
   ]
  },
  {
   "cell_type": "code",
   "execution_count": 17,
   "metadata": {},
   "outputs": [
    {
     "name": "stdout",
     "output_type": "stream",
     "text": [
      "[5, 7, 9]\n"
     ]
    }
   ],
   "source": [
    "bigList = List([1, 2, 3], [4, 5, 6])\n",
    "print(bigList.__add__())"
   ]
  }
 ],
 "metadata": {
  "kernelspec": {
   "display_name": "Python 3",
   "language": "python",
   "name": "python3"
  },
  "language_info": {
   "codemirror_mode": {
    "name": "ipython",
    "version": 3
   },
   "file_extension": ".py",
   "mimetype": "text/x-python",
   "name": "python",
   "nbconvert_exporter": "python",
   "pygments_lexer": "ipython3",
   "version": "3.8.3"
  }
 },
 "nbformat": 4,
 "nbformat_minor": 4
}
